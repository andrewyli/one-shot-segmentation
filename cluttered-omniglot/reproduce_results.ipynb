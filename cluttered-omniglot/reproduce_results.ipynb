{
 "cells": [
  {
   "cell_type": "code",
   "execution_count": null,
   "metadata": {},
   "outputs": [],
   "source": [
    "import model\n",
    "import os\n",
    "DATASET_DIR = os.path.join(os.getcwd(), 'cluttered_omniglot/')\n",
    "LOG_DIR = os.path.join(os.getcwd(), 'logs/')"
   ]
  },
  {
   "cell_type": "markdown",
   "metadata": {},
   "source": [
    "### Get checkpoints"
   ]
  },
  {
   "cell_type": "code",
   "execution_count": null,
   "metadata": {},
   "outputs": [],
   "source": [
    "from urllib.request import urlretrieve\n",
    "import zipfile"
   ]
  },
  {
   "cell_type": "code",
   "execution_count": null,
   "metadata": {},
   "outputs": [],
   "source": [
    "# Set target path\n",
    "ckptpath = os.path.join(os.getcwd(), 'checkpoints/')"
   ]
  },
  {
   "cell_type": "code",
   "execution_count": null,
   "metadata": {},
   "outputs": [],
   "source": [
    "# Download and extract omniglot\n",
    "origins = [\"https://dl.dropbox.com/s/bm625f6ns04g4ea/siamese_u_net_checkpoints.zip\", \n",
    "           \"https://dl.dropbox.com/s/sc8pevf2h6152i0/mask_net_checkpoints.zip\"]\n",
    "\n",
    "fnames = [\"siamese_u_net_checkpoints.zip\", \"mask_net_checkpoints.zip\"]\n",
    "tnames = [\"siamese-u-net\", \"mask-net\"]\n",
    "\n",
    "for i in range(len(origins)):\n",
    "    origin = origins[i]\n",
    "    if not os.path.isdir(ckptpath):\n",
    "        os.makedirs(ckptpath)\n",
    "    fpath = os.path.join(ckptpath, fnames[i])\n",
    "    urlretrieve(origins[i], fpath)\n",
    "    tpath = os.path.join(ckptpath, tnames[i])\n",
    "    zipfile.ZipFile(fpath).extractall(tpath)"
   ]
  },
  {
   "cell_type": "markdown",
   "metadata": {},
   "source": [
    "### Siamese-U-Net"
   ]
  },
  {
   "cell_type": "code",
   "execution_count": null,
   "metadata": {},
   "outputs": [],
   "source": [
    "# Get checkpoints\n",
    "CHECKPOINT_DIR = os.path.join(os.getcwd(), 'checkpoints/siamese-u-net/')\n",
    "\n",
    "# Evaluate all clutter levels sequentially \n",
    "number_of_characters = [4, 8, 16, 32, 64, 128, 256]\n",
    "\n",
    "for chars in range(len(number_of_characters)):\n",
    "    print('')\n",
    "    datadir = DATASET_DIR + '%.d_characters/'%(number_of_characters[chars])\n",
    "    logdir = CHECKPOINT_DIR + '%.d_characters/'%(number_of_characters[chars])\n",
    "\n",
    "    model.evaluation(datadir, \n",
    "             logdir, \n",
    "             model='siamese-u-net',\n",
    "             feature_maps=24,\n",
    "             batch_size=250,\n",
    "             threshold=0.3)"
   ]
  },
  {
   "cell_type": "markdown",
   "metadata": {},
   "source": [
    "### MaskNet"
   ]
  },
  {
   "cell_type": "code",
   "execution_count": null,
   "metadata": {},
   "outputs": [],
   "source": [
    "# Get checkpoints\n",
    "CHECKPOINT_DIR = os.path.join(os.getcwd(), 'checkpoints/mask-net/')\n",
    "\n",
    "# Evaluate all clutter levels sequentially \n",
    "number_of_characters = [4, 8, 16, 32, 64, 128, 256]\n",
    "\n",
    "for chars in range(len(number_of_characters)):\n",
    "    print('')\n",
    "    datadir = DATASET_DIR + '%.d_characters/'%(number_of_characters[chars])\n",
    "    logdir = CHECKPOINT_DIR + '%.d_characters/'%(number_of_characters[chars])\n",
    "\n",
    "    model.evaluation(datadir, \n",
    "             logdir, \n",
    "             model='mask-net',\n",
    "             feature_maps=24,\n",
    "             batch_size=10,\n",
    "             threshold=0.3)"
   ]
  }
 ],
 "metadata": {
  "kernelspec": {
   "display_name": "Python 3",
   "language": "python",
   "name": "python3"
  },
  "language_info": {
   "codemirror_mode": {
    "name": "ipython",
    "version": 3
   },
   "file_extension": ".py",
   "mimetype": "text/x-python",
   "name": "python",
   "nbconvert_exporter": "python",
   "pygments_lexer": "ipython3",
   "version": "3.6.3"
  },
  "varInspector": {
   "cols": {
    "lenName": 16,
    "lenType": 16,
    "lenVar": 40
   },
   "kernels_config": {
    "python": {
     "delete_cmd_postfix": "",
     "delete_cmd_prefix": "del ",
     "library": "var_list.py",
     "varRefreshCmd": "print(var_dic_list())"
    },
    "r": {
     "delete_cmd_postfix": ") ",
     "delete_cmd_prefix": "rm(",
     "library": "var_list.r",
     "varRefreshCmd": "cat(var_dic_list()) "
    }
   },
   "types_to_exclude": [
    "module",
    "function",
    "builtin_function_or_method",
    "instance",
    "_Feature"
   ],
   "window_display": false
  }
 },
 "nbformat": 4,
 "nbformat_minor": 2
}
