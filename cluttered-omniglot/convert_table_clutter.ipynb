{
 "cells": [
  {
   "cell_type": "code",
   "execution_count": 10,
   "metadata": {},
   "outputs": [],
   "source": [
    "import cv2\n",
    "import matplotlib\n",
    "%matplotlib inline\n",
    "import matplotlib.pyplot as plt\n",
    "import numpy as np\n",
    "import os\n",
    "\n",
    "from dataset_utils import mkdir_if_missing\n",
    "from PIL import Image\n",
    "from skimage import io\n",
    "from tqdm import tqdm\n",
    "\n",
    "import json\n",
    "import pprint\n"
   ]
  },
  {
   "cell_type": "markdown",
   "metadata": {},
   "source": [
    "## Converting wisdom sim dataset to cluttered omniglot format"
   ]
  },
  {
   "cell_type": "code",
   "execution_count": 19,
   "metadata": {},
   "outputs": [],
   "source": [
    "DATASET_DIR = \"/nfs/diskstation/projects/dex-net/segmentation/datasets/wisdom-sim-block-npy\"\n",
    "OUT_DIR = \"/nfs/diskstation/projects/dex-net/segmentation/datasets/mask-net/fold_0003\"\n",
    "mkdir_if_missing(OUT_DIR)\n",
    "mkdir_if_missing(os.path.join(OUT_DIR, \"train\"))\n",
    "mkdir_if_missing(os.path.join(OUT_DIR, \"val-train\"))\n",
    "mkdir_if_missing(os.path.join(OUT_DIR, \"val-one-shot\"))\n",
    "mkdir_if_missing(os.path.join(OUT_DIR, \"test-train\"))\n",
    "mkdir_if_missing(os.path.join(OUT_DIR, \"test-one-shot\"))\n",
    "\n",
    "# Dataset size\n",
    "NUM_IMS = 30\n",
    "\n",
    "# input image size\n",
    "IM_HEIGHT = 384\n",
    "IM_WIDTH = 512\n",
    "\n",
    "# 1:3 ratio between im_size and tar_size\n",
    "IM_SIZE = 384\n",
    "TAR_SIZE = 128\n",
    "\n",
    "# Image distortion\n",
    "ANGLE = 100\n",
    "SHEAR = 4\n",
    "\n",
    "# For storage purposes\n",
    "BLOCK_SIZE = 1\n",
    "BLOCKED = False"
   ]
  },
  {
   "cell_type": "code",
   "execution_count": 17,
   "metadata": {},
   "outputs": [],
   "source": [
    "def rot_x(phi, theta, ptx, pty):\n",
    "    return np.cos(phi+theta)*ptx + np.sin(phi-theta)*pty\n",
    "\n",
    "\n",
    "def rot_y(phi, theta, ptx, pty):\n",
    "    return -np.sin(phi+theta)*ptx + np.cos(phi-theta)*pty\n",
    "\n",
    "\n",
    "def prepare_img(img, angle=100, shear=2.5, scale=2):\n",
    "    # Apply affine transformations and scale characters for data augmentation\n",
    "    phi = np.radians(np.random.uniform(-angle, angle))\n",
    "    theta = np.radians(np.random.uniform(-shear, shear))\n",
    "    a = scale**np.random.uniform(-1, 1)\n",
    "    b = scale**np.random.uniform(-1, 1)\n",
    "    (x, y) = img.shape\n",
    "    x = a * x\n",
    "    y = b * y\n",
    "    xextremes = [rot_x(phi, theta, 0, 0), rot_x(phi, theta, 0, y), rot_x(phi, theta, x, 0), rot_x(phi, theta, x, y)]\n",
    "    yextremes = [rot_y(phi, theta, 0, 0), rot_y(phi, theta, 0, y), rot_y(phi, theta, x, 0), rot_y(phi, theta, x, y)]\n",
    "    mnx = min(xextremes)\n",
    "    mxx = max(xextremes)\n",
    "    mny = min(yextremes)\n",
    "    mxy = max(yextremes)\n",
    "\n",
    "    aff_bas = np.array([[a*np.cos(phi+theta), b*np.sin(phi-theta), -mnx], [-a*np.sin(phi+theta), b*np.cos(phi-theta), -mny], [0, 0, 1]])\n",
    "    aff_prm = np.linalg.inv(aff_bas)\n",
    "    pil_img = Image.fromarray(img)\n",
    "    pil_img = pil_img.transform((int(mxx - mnx),int(mxy - mny)),\n",
    "                                    method=Image.AFFINE,\n",
    "                                    data=np.ndarray.flatten(aff_prm[0:2, :]))\n",
    "    pil_img = pil_img.resize((int(TAR_SIZE * (mxx - mnx) / 100), int(TAR_SIZE * (mxy - mny) / 100)))\n",
    "\n",
    "    return np.array(pil_img)\n",
    "\n",
    "\n",
    "def bbox(im):\n",
    "    # get bounding box coordinates\n",
    "    rows = np.any(im, axis=1)\n",
    "    cols = np.any(im, axis=0)\n",
    "    rmin, rmax = np.where(rows)[0][[0, -1]]\n",
    "    cmin, cmax = np.where(cols)[0][[0, -1]]\n",
    "\n",
    "    return rmin, rmax, cmin, cmax\n",
    "\n",
    "\n",
    "def make_target(modal_mask, angle=0, shear=0, scale=1):\n",
    "    # make target image\n",
    "    transformed_mask = prepare_img(modal_mask, angle, shear, scale)\n",
    "    top, bot, left, right = bbox(transformed_mask)\n",
    "    obj_size = max(bot - top, right - left)\n",
    "    margin = max((TAR_SIZE * 2 - obj_size) // 2, 0)\n",
    "    return cv2.resize(\n",
    "        transformed_mask[max(0, top - margin):min(transformed_mask.shape[0], bot + margin),\n",
    "                         max(0, left - margin):min(transformed_mask.shape[1], right + margin)],\n",
    "        (TAR_SIZE, TAR_SIZE),\n",
    "        interpolation=cv2.INTER_NEAREST)\n",
    "\n",
    "def resize_scene(im):\n",
    "    if len(im.shape) == 2:\n",
    "        im = np.pad(im, (((IM_WIDTH - IM_SIZE) // 2, (IM_WIDTH - IM_SIZE) // 2), (0, 0)), mode=\"constant\")\n",
    "    elif len(im.shape) == 3:\n",
    "        im = np.pad(im, (((IM_WIDTH - IM_SIZE) // 2, (IM_WIDTH - IM_SIZE) // 2), (0, 0), (0, 0)), mode=\"constant\")\n",
    "    else:\n",
    "        raise Exception(\"image dimensions not valid for scene/ground truth, shape: {}\".format(im.shape))\n",
    "    return cv2.resize(\n",
    "        im,\n",
    "        (IM_SIZE, IM_SIZE),\n",
    "        interpolation=cv2.INTER_NEAREST)"
   ]
  },
  {
   "cell_type": "code",
   "execution_count": 10,
   "metadata": {},
   "outputs": [
    {
     "name": "stderr",
     "output_type": "stream",
     "text": [
      "\r",
      "  0%|          | 0/5 [00:00<?, ?it/s]"
     ]
    },
    {
     "name": "stdout",
     "output_type": "stream",
     "text": [
      "[  0 255]\n"
     ]
    },
    {
     "data": {
      "image/png": "[encoded data removed]",
      "text/plain": [
       "<Figure size 432x288 with 1 Axes>"
      ]
     },
     "metadata": {
      "needs_background": "light"
     },
     "output_type": "display_data"
    },
    {
     "name": "stdout",
     "output_type": "stream",
     "text": [
      "[  0 255]\n"
     ]
    },
    {
     "data": {
      "image/png": "[encoded data removed]",
      "text/plain": [
       "<Figure size 432x288 with 1 Axes>"
      ]
     },
     "metadata": {
      "needs_background": "light"
     },
     "output_type": "display_data"
    },
    {
     "name": "stdout",
     "output_type": "stream",
     "text": [
      "[  0 255]\n"
     ]
    },
    {
     "data": {
      "image/png": "[encoded data removed]",
      "text/plain": [
       "<Figure size 432x288 with 1 Axes>"
      ]
     },
     "metadata": {
      "needs_background": "light"
     },
     "output_type": "display_data"
    },
    {
     "name": "stdout",
     "output_type": "stream",
     "text": [
      "[  0 255]\n"
     ]
    },
    {
     "data": {
      "image/png": "[encoded data removed]",
      "text/plain": [
       "<Figure size 432x288 with 1 Axes>"
      ]
     },
     "metadata": {
      "needs_background": "light"
     },
     "output_type": "display_data"
    },
    {
     "name": "stdout",
     "output_type": "stream",
     "text": [
      "[  0 255]\n"
     ]
    },
    {
     "data": {
      "image/png": "[encoded data removed]",
      "text/plain": [
       "<Figure size 432x288 with 1 Axes>"
      ]
     },
     "metadata": {
      "needs_background": "light"
     },
     "output_type": "display_data"
    },
    {
     "name": "stdout",
     "output_type": "stream",
     "text": [
      "[  0 255]\n"
     ]
    },
    {
     "data": {
      "image/png": "[encoded data removed]",
      "text/plain": [
       "<Figure size 432x288 with 1 Axes>"
      ]
     },
     "metadata": {
      "needs_background": "light"
     },
     "output_type": "display_data"
    },
    {
     "name": "stdout",
     "output_type": "stream",
     "text": [
      "[0]\n"
     ]
    },
    {
     "data": {
      "image/png": "[encoded data removed]",
      "text/plain": [
       "<Figure size 432x288 with 1 Axes>"
      ]
     },
     "metadata": {
      "needs_background": "light"
     },
     "output_type": "display_data"
    },
    {
     "name": "stderr",
     "output_type": "stream",
     "text": [
      "\r",
      " 20%|██        | 1/5 [00:01<00:05,  1.26s/it]"
     ]
    },
    {
     "name": "stdout",
     "output_type": "stream",
     "text": [
      "[  0 255]\n"
     ]
    },
    {
     "data": {
      "image/png": "[encoded data removed]",
      "text/plain": [
       "<Figure size 432x288 with 1 Axes>"
      ]
     },
     "metadata": {
      "needs_background": "light"
     },
     "output_type": "display_data"
    },
    {
     "name": "stdout",
     "output_type": "stream",
     "text": [
      "[  0 255]\n"
     ]
    },
    {
     "data": {
      "image/png": "[encoded data removed]",
      "text/plain": [
       "<Figure size 432x288 with 1 Axes>"
      ]
     },
     "metadata": {
      "needs_background": "light"
     },
     "output_type": "display_data"
    },
    {
     "name": "stdout",
     "output_type": "stream",
     "text": [
      "[  0 255]\n"
     ]
    },
    {
     "data": {
      "image/png": "[encoded data removed]",
      "text/plain": [
       "<Figure size 432x288 with 1 Axes>"
      ]
     },
     "metadata": {
      "needs_background": "light"
     },
     "output_type": "display_data"
    },
    {
     "name": "stdout",
     "output_type": "stream",
     "text": [
      "[  0 255]\n"
     ]
    },
    {
     "data": {
      "image/png": "[encoded data removed]",
      "text/plain": [
       "<Figure size 432x288 with 1 Axes>"
      ]
     },
     "metadata": {
      "needs_background": "light"
     },
     "output_type": "display_data"
    },
    {
     "name": "stdout",
     "output_type": "stream",
     "text": [
      "[  0 255]\n"
     ]
    },
    {
     "data": {
      "image/png": "[encoded data removed]",
      "text/plain": [
       "<Figure size 432x288 with 1 Axes>"
      ]
     },
     "metadata": {
      "needs_background": "light"
     },
     "output_type": "display_data"
    },
    {
     "name": "stdout",
     "output_type": "stream",
     "text": [
      "[  0 255]\n"
     ]
    },
    {
     "data": {
      "image/png": "[encoded data removed]",
      "text/plain": [
       "<Figure size 432x288 with 1 Axes>"
      ]
     },
     "metadata": {
      "needs_background": "light"
     },
     "output_type": "display_data"
    },
    {
     "name": "stdout",
     "output_type": "stream",
     "text": [
      "[0]\n"
     ]
    },
    {
     "data": {
      "image/png": "[encoded data removed]",
      "text/plain": [
       "<Figure size 432x288 with 1 Axes>"
      ]
     },
     "metadata": {
      "needs_background": "light"
     },
     "output_type": "display_data"
    },
    {
     "name": "stderr",
     "output_type": "stream",
     "text": [
      "\r",
      " 40%|████      | 2/5 [00:02<00:03,  1.20s/it]"
     ]
    },
    {
     "name": "stdout",
     "output_type": "stream",
     "text": [
      "[  0 255]\n"
     ]
    },
    {
     "data": {
      "image/png": "[encoded data removed]",
      "text/plain": [
       "<Figure size 432x288 with 1 Axes>"
      ]
     },
     "metadata": {
      "needs_background": "light"
     },
     "output_type": "display_data"
    },
    {
     "name": "stdout",
     "output_type": "stream",
     "text": [
      "[  0 255]\n"
     ]
    },
    {
     "data": {
      "image/png": "[encoded data removed]",
      "text/plain": [
       "<Figure size 432x288 with 1 Axes>"
      ]
     },
     "metadata": {
      "needs_background": "light"
     },
     "output_type": "display_data"
    },
    {
     "name": "stdout",
     "output_type": "stream",
     "text": [
      "[  0 255]\n"
     ]
    },
    {
     "data": {
      "image/png": "[encoded data removed]",
      "text/plain": [
       "<Figure size 432x288 with 1 Axes>"
      ]
     },
     "metadata": {
      "needs_background": "light"
     },
     "output_type": "display_data"
    },
    {
     "name": "stdout",
     "output_type": "stream",
     "text": [
      "[  0 255]\n"
     ]
    },
    {
     "data": {
      "image/png": "[encoded data removed]",
      "text/plain": [
       "<Figure size 432x288 with 1 Axes>"
      ]
     },
     "metadata": {
      "needs_background": "light"
     },
     "output_type": "display_data"
    },
    {
     "name": "stdout",
     "output_type": "stream",
     "text": [
      "[  0 255]\n"
     ]
    },
    {
     "data": {
      "image/png": "[encoded data removed]",
      "text/plain": [
       "<Figure size 432x288 with 1 Axes>"
      ]
     },
     "metadata": {
      "needs_background": "light"
     },
     "output_type": "display_data"
    },
    {
     "name": "stdout",
     "output_type": "stream",
     "text": [
      "[  0 255]\n"
     ]
    },
    {
     "data": {
      "image/png": "[encoded data removed]",
      "text/plain": [
       "<Figure size 432x288 with 1 Axes>"
      ]
     },
     "metadata": {
      "needs_background": "light"
     },
     "output_type": "display_data"
    },
    {
     "name": "stdout",
     "output_type": "stream",
     "text": [
      "[0]\n"
     ]
    },
    {
     "data": {
      "image/png": "[encoded data removed]",
      "text/plain": [
       "<Figure size 432x288 with 1 Axes>"
      ]
     },
     "metadata": {
      "needs_background": "light"
     },
     "output_type": "display_data"
    },
    {
     "name": "stderr",
     "output_type": "stream",
     "text": [
      "\r",
      " 60%|██████    | 3/5 [00:03<00:02,  1.27s/it]"
     ]
    },
    {
     "name": "stdout",
     "output_type": "stream",
     "text": [
      "[  0 255]\n"
     ]
    },
    {
     "data": {
      "image/png": "[encoded data removed]",
      "text/plain": [
       "<Figure size 432x288 with 1 Axes>"
      ]
     },
     "metadata": {
      "needs_background": "light"
     },
     "output_type": "display_data"
    },
    {
     "name": "stdout",
     "output_type": "stream",
     "text": [
      "[  0 255]\n"
     ]
    },
    {
     "data": {
      "image/png": "[encoded data removed]",
      "text/plain": [
       "<Figure size 432x288 with 1 Axes>"
      ]
     },
     "metadata": {
      "needs_background": "light"
     },
     "output_type": "display_data"
    },
    {
     "name": "stdout",
     "output_type": "stream",
     "text": [
      "[  0 255]\n"
     ]
    },
    {
     "data": {
      "image/png": "[encoded data removed]",
      "text/plain": [
       "<Figure size 432x288 with 1 Axes>"
      ]
     },
     "metadata": {
      "needs_background": "light"
     },
     "output_type": "display_data"
    },
    {
     "name": "stdout",
     "output_type": "stream",
     "text": [
      "[  0 255]\n"
     ]
    },
    {
     "data": {
      "image/png": "[encoded data removed]",
      "text/plain": [
       "<Figure size 432x288 with 1 Axes>"
      ]
     },
     "metadata": {
      "needs_background": "light"
     },
     "output_type": "display_data"
    },
    {
     "name": "stdout",
     "output_type": "stream",
     "text": [
      "[  0 255]\n"
     ]
    },
    {
     "data": {
      "image/png": "[encoded data removed]",
      "text/plain": [
       "<Figure size 432x288 with 1 Axes>"
      ]
     },
     "metadata": {
      "needs_background": "light"
     },
     "output_type": "display_data"
    },
    {
     "name": "stdout",
     "output_type": "stream",
     "text": [
      "[  0 255]\n"
     ]
    },
    {
     "data": {
      "image/png": "[encoded data removed]",
      "text/plain": [
       "<Figure size 432x288 with 1 Axes>"
      ]
     },
     "metadata": {
      "needs_background": "light"
     },
     "output_type": "display_data"
    },
    {
     "name": "stdout",
     "output_type": "stream",
     "text": [
      "[0]\n"
     ]
    },
    {
     "data": {
      "image/png": "[encoded data removed]",
      "text/plain": [
       "<Figure size 432x288 with 1 Axes>"
      ]
     },
     "metadata": {
      "needs_background": "light"
     },
     "output_type": "display_data"
    },
    {
     "name": "stderr",
     "output_type": "stream",
     "text": [
      "\r",
      " 80%|████████  | 4/5 [00:05<00:01,  1.31s/it]"
     ]
    },
    {
     "name": "stdout",
     "output_type": "stream",
     "text": [
      "[  0 255]\n"
     ]
    },
    {
     "data": {
      "image/png": "[encoded data removed]",
      "text/plain": [
       "<Figure size 432x288 with 1 Axes>"
      ]
     },
     "metadata": {
      "needs_background": "light"
     },
     "output_type": "display_data"
    },
    {
     "name": "stdout",
     "output_type": "stream",
     "text": [
      "[  0 255]\n"
     ]
    },
    {
     "data": {
      "image/png": "[encoded data removed]",
      "text/plain": [
       "<Figure size 432x288 with 1 Axes>"
      ]
     },
     "metadata": {
      "needs_background": "light"
     },
     "output_type": "display_data"
    },
    {
     "name": "stdout",
     "output_type": "stream",
     "text": [
      "[  0 255]\n"
     ]
    },
    {
     "data": {
      "image/png": "[encoded data removed]",
      "text/plain": [
       "<Figure size 432x288 with 1 Axes>"
      ]
     },
     "metadata": {
      "needs_background": "light"
     },
     "output_type": "display_data"
    },
    {
     "name": "stdout",
     "output_type": "stream",
     "text": [
      "[  0 255]\n"
     ]
    },
    {
     "data": {
      "image/png": "[encoded data removed]",
      "text/plain": [
       "<Figure size 432x288 with 1 Axes>"
      ]
     },
     "metadata": {
      "needs_background": "light"
     },
     "output_type": "display_data"
    },
    {
     "name": "stdout",
     "output_type": "stream",
     "text": [
      "[  0 255]\n"
     ]
    },
    {
     "data": {
      "image/png": "[encoded data removed]",
      "text/plain": [
       "<Figure size 432x288 with 1 Axes>"
      ]
     },
     "metadata": {
      "needs_background": "light"
     },
     "output_type": "display_data"
    },
    {
     "name": "stdout",
     "output_type": "stream",
     "text": [
      "[  0 255]\n"
     ]
    },
    {
     "data": {
      "image/png": "[encoded data removed]",
      "text/plain": [
       "<Figure size 432x288 with 1 Axes>"
      ]
     },
     "metadata": {
      "needs_background": "light"
     },
     "output_type": "display_data"
    },
    {
     "name": "stdout",
     "output_type": "stream",
     "text": [
      "[0]\n"
     ]
    },
    {
     "data": {
      "image/png": "[encoded data removed]",
      "text/plain": [
       "<Figure size 432x288 with 1 Axes>"
      ]
     },
     "metadata": {
      "needs_background": "light"
     },
     "output_type": "display_data"
    },
    {
     "name": "stderr",
     "output_type": "stream",
     "text": [
      "100%|██████████| 5/5 [00:06<00:00,  1.35s/it]\n"
     ]
    }
   ],
   "source": [
    "data_count = 0\n",
    "train_indices = set(np.load(\n",
    "    os.path.join(DATASET_DIR, \"train_indices.npy\")))\n",
    "test_indices = set(np.load(\n",
    "    os.path.join(DATASET_DIR, \"test_indices.npy\")))\n",
    "for im_idx in tqdm(range(NUM_IMS)):\n",
    "    scene_path = os.path.join(\n",
    "        DATASET_DIR,\n",
    "        \"depth_ims\",\n",
    "        \"image_{:06d}.png\".format(im_idx))\n",
    "    scene_im = io.imread(scene_path)\n",
    "    \n",
    "    # read and blockify scene\n",
    "    scene_im = io.imread(scene_path)\n",
    "    scene_im = resize_scene(scene_im)\n",
    "    scene_im = np.expand_dims(scene_im, axis=0)\n",
    "    \n",
    "    for mask_idx in range(11):\n",
    "        channel_name = \"image_{:06d}_channel_{:03d}.png\".format(im_idx, mask_idx)\n",
    "        amodal_path = os.path.join(\n",
    "            DATASET_DIR,\n",
    "            \"amodal_segmasks\",\n",
    "            channel_name)\n",
    "        amodal_mask = io.imread(amodal_path)\n",
    "        print(np.unique(amodal_mask))\n",
    "        plt.imshow(amodal_mask)\n",
    "        plt.show()\n",
    "        # if there is no amodal mask, object doesn't exist.\n",
    "        try:\n",
    "            amodal_mask = make_target(amodal_mask, angle=ANGLE, shear=SHEAR)\n",
    "            amodal_mask[amodal_mask > 0] = 1\n",
    "        except:\n",
    "            break"
   ]
  },
  {
   "cell_type": "code",
   "execution_count": 18,
   "metadata": {},
   "outputs": [
    {
     "name": "stdout",
     "output_type": "stream",
     "text": [
      "0\n"
     ]
    },
    {
     "ename": "ValueError",
     "evalue": "Invalid shape for image array: (1, 384, 384, 3)",
     "output_type": "error",
     "traceback": [
      "\u001b[0;31m---------------------------------------------------------------------------\u001b[0m",
      "\u001b[0;31mValueError\u001b[0m                                Traceback (most recent call last)",
      "\u001b[0;32m<ipython-input-18-3221d030c355>\u001b[0m in \u001b[0;36m<module>\u001b[0;34m()\u001b[0m\n\u001b[1;32m     63\u001b[0m                     \u001b[0;34m\"train/\"\u001b[0m\u001b[0;34m,\u001b[0m\u001b[0;34m\u001b[0m\u001b[0m\n\u001b[1;32m     64\u001b[0m                     \"image_{:08d}.png\".format(train_counter // BLOCK_SIZE)),\n\u001b[0;32m---> 65\u001b[0;31m                        train_ims_block)\n\u001b[0m\u001b[1;32m     66\u001b[0m                 io.imsave(os.path.join(\n\u001b[1;32m     67\u001b[0m                     \u001b[0mOUT_DIR\u001b[0m\u001b[0;34m,\u001b[0m\u001b[0;34m\u001b[0m\u001b[0m\n",
      "\u001b[0;32m~/oss/lib/python3.5/site-packages/skimage/io/_io.py\u001b[0m in \u001b[0;36mimsave\u001b[0;34m(fname, arr, plugin, **plugin_args)\u001b[0m\n\u001b[1;32m    141\u001b[0m     \u001b[0;32mif\u001b[0m \u001b[0marr\u001b[0m\u001b[0;34m.\u001b[0m\u001b[0mdtype\u001b[0m \u001b[0;34m==\u001b[0m \u001b[0mbool\u001b[0m\u001b[0;34m:\u001b[0m\u001b[0;34m\u001b[0m\u001b[0m\n\u001b[1;32m    142\u001b[0m         \u001b[0mwarn\u001b[0m\u001b[0;34m(\u001b[0m\u001b[0;34m'%s is a boolean image: setting True to 1 and False to 0'\u001b[0m \u001b[0;34m%\u001b[0m \u001b[0mfname\u001b[0m\u001b[0;34m)\u001b[0m\u001b[0;34m\u001b[0m\u001b[0m\n\u001b[0;32m--> 143\u001b[0;31m     \u001b[0;32mreturn\u001b[0m \u001b[0mcall_plugin\u001b[0m\u001b[0;34m(\u001b[0m\u001b[0;34m'imsave'\u001b[0m\u001b[0;34m,\u001b[0m \u001b[0mfname\u001b[0m\u001b[0;34m,\u001b[0m \u001b[0marr\u001b[0m\u001b[0;34m,\u001b[0m \u001b[0mplugin\u001b[0m\u001b[0;34m=\u001b[0m\u001b[0mplugin\u001b[0m\u001b[0;34m,\u001b[0m \u001b[0;34m**\u001b[0m\u001b[0mplugin_args\u001b[0m\u001b[0;34m)\u001b[0m\u001b[0;34m\u001b[0m\u001b[0m\n\u001b[0m\u001b[1;32m    144\u001b[0m \u001b[0;34m\u001b[0m\u001b[0m\n\u001b[1;32m    145\u001b[0m \u001b[0;34m\u001b[0m\u001b[0m\n",
      "\u001b[0;32m~/oss/lib/python3.5/site-packages/skimage/io/manage_plugins.py\u001b[0m in \u001b[0;36mcall_plugin\u001b[0;34m(kind, *args, **kwargs)\u001b[0m\n\u001b[1;32m    212\u001b[0m                                (plugin, kind))\n\u001b[1;32m    213\u001b[0m \u001b[0;34m\u001b[0m\u001b[0m\n\u001b[0;32m--> 214\u001b[0;31m     \u001b[0;32mreturn\u001b[0m \u001b[0mfunc\u001b[0m\u001b[0;34m(\u001b[0m\u001b[0;34m*\u001b[0m\u001b[0margs\u001b[0m\u001b[0;34m,\u001b[0m \u001b[0;34m**\u001b[0m\u001b[0mkwargs\u001b[0m\u001b[0;34m)\u001b[0m\u001b[0;34m\u001b[0m\u001b[0m\n\u001b[0m\u001b[1;32m    215\u001b[0m \u001b[0;34m\u001b[0m\u001b[0m\n\u001b[1;32m    216\u001b[0m \u001b[0;34m\u001b[0m\u001b[0m\n",
      "\u001b[0;32m~/oss/lib/python3.5/site-packages/skimage/io/_plugins/pil_plugin.py\u001b[0m in \u001b[0;36mimsave\u001b[0;34m(fname, arr, format_str, **kwargs)\u001b[0m\n\u001b[1;32m    251\u001b[0m \u001b[0;34m\u001b[0m\u001b[0m\n\u001b[1;32m    252\u001b[0m     \u001b[0;32mif\u001b[0m \u001b[0marr\u001b[0m\u001b[0;34m.\u001b[0m\u001b[0mndim\u001b[0m \u001b[0;32mnot\u001b[0m \u001b[0;32min\u001b[0m \u001b[0;34m(\u001b[0m\u001b[0;36m2\u001b[0m\u001b[0;34m,\u001b[0m \u001b[0;36m3\u001b[0m\u001b[0;34m)\u001b[0m\u001b[0;34m:\u001b[0m\u001b[0;34m\u001b[0m\u001b[0m\n\u001b[0;32m--> 253\u001b[0;31m         \u001b[0;32mraise\u001b[0m \u001b[0mValueError\u001b[0m\u001b[0;34m(\u001b[0m\u001b[0;34m\"Invalid shape for image array: %s\"\u001b[0m \u001b[0;34m%\u001b[0m \u001b[0;34m(\u001b[0m\u001b[0marr\u001b[0m\u001b[0;34m.\u001b[0m\u001b[0mshape\u001b[0m\u001b[0;34m,\u001b[0m \u001b[0;34m)\u001b[0m\u001b[0;34m)\u001b[0m\u001b[0;34m\u001b[0m\u001b[0m\n\u001b[0m\u001b[1;32m    254\u001b[0m \u001b[0;34m\u001b[0m\u001b[0m\n\u001b[1;32m    255\u001b[0m     \u001b[0;32mif\u001b[0m \u001b[0marr\u001b[0m\u001b[0;34m.\u001b[0m\u001b[0mndim\u001b[0m \u001b[0;34m==\u001b[0m \u001b[0;36m3\u001b[0m\u001b[0;34m:\u001b[0m\u001b[0;34m\u001b[0m\u001b[0m\n",
      "\u001b[0;31mValueError\u001b[0m: Invalid shape for image array: (1, 384, 384, 3)"
     ]
    }
   ],
   "source": [
    "data_count = 0\n",
    "train_indices = set(np.load(\n",
    "    os.path.join(DATASET_DIR, \"train_indices.npy\")))\n",
    "test_indices = set(np.load(\n",
    "    os.path.join(DATASET_DIR, \"test_indices.npy\")))\n",
    "\n",
    "train_counter = 0\n",
    "test_counter = 0\n",
    "test_folders = [\"test-train\", \"test-one-shot\", \"val-train\", \"val-one-shot\"]\n",
    "test_counters = [0 for i in range(4)]\n",
    "train_ims_block = np.zeros((BLOCK_SIZE, IM_SIZE, IM_SIZE, 3))\n",
    "train_seg_block = np.zeros((BLOCK_SIZE, IM_SIZE, IM_SIZE, 1))\n",
    "train_tar_block = np.zeros((BLOCK_SIZE, TAR_SIZE, TAR_SIZE, 3))\n",
    "test_ims_block = np.zeros((BLOCK_SIZE, IM_SIZE, IM_SIZE, 3))\n",
    "test_seg_block = np.zeros((BLOCK_SIZE, IM_SIZE, IM_SIZE, 1))\n",
    "test_tar_block = np.zeros((BLOCK_SIZE, TAR_SIZE, TAR_SIZE, 3))\n",
    "for im_idx in range(NUM_IMS):\n",
    "    im_path = os.path.join(\n",
    "        DATASET_DIR,\n",
    "        \"depth_ims\",\n",
    "        \"image_{:06d}.png\".format(im_idx))\n",
    "    im = io.imread(im_path, as_gray=True)\n",
    "    im = resize_scene(im)\n",
    "    print(im_idx)\n",
    "    \"\"\"plt.figure()\n",
    "    plt.imshow(im)\"\"\"\n",
    "    for mask_idx in range(11):\n",
    "        channel_name = \"image_{:06d}_channel_{:03d}.png\".format(im_idx, mask_idx)\n",
    "        amodal_path = os.path.join(\n",
    "            DATASET_DIR,\n",
    "            \"amodal_segmasks\",\n",
    "            channel_name)\n",
    "        amodal_mask = io.imread(amodal_path, as_gray=True)\n",
    "\n",
    "        # if there is no amodal mask, object doesn't exist.\n",
    "        try:\n",
    "            amodal_mask = make_target(amodal_mask, angle=ANGLE, shear=SHEAR)\n",
    "            amodal_mask[amodal_mask > 0] = 1\n",
    "        except:\n",
    "            break\n",
    "        \"\"\"plt.figure()\n",
    "        plt.imshow(amodal_mask)\"\"\"\n",
    "        data_count += 1\n",
    "        modal_path = os.path.join(\n",
    "            DATASET_DIR,\n",
    "            \"modal_segmasks\",\n",
    "            channel_name)\n",
    "        modal_mask = io.imread(modal_path, as_gray=True)\n",
    "        modal_mask = resize_scene(modal_mask)\n",
    "        modal_mask[modal_mask > 0] = 1\n",
    "        \n",
    "        \"\"\"plt.figure()\n",
    "        plt.imshow(modal_mask)\"\"\"\n",
    "        \n",
    "        if im_idx in train_indices:\n",
    "            train_idx = train_counter % BLOCK_SIZE\n",
    "            train_ims_block[train_idx] = np.stack((im, im, im), axis=2)\n",
    "            train_seg_block[train_idx] = modal_mask[:, :, np.newaxis]\n",
    "            train_tar_block[train_idx] = np.stack((amodal_mask, amodal_mask, amodal_mask), axis=2)\n",
    "            if train_idx == BLOCK_SIZE - 1:\n",
    "                io.imsave(os.path.join(\n",
    "                    OUT_DIR,\n",
    "                    \"train/\",\n",
    "                    \"image_{:08d}.png\".format(train_counter // BLOCK_SIZE)),\n",
    "                       train_ims_block)\n",
    "                io.imsave(os.path.join(\n",
    "                    OUT_DIR,\n",
    "                    \"train/\",\n",
    "                    \"segmentation_{:08d}.png\".format(train_counter // BLOCK_SIZE)),\n",
    "                       train_seg_block)\n",
    "                io.imsave(os.path.join(\n",
    "                    OUT_DIR,\n",
    "                    \"train/\",\n",
    "                    \"target_{:08d}.png\".format(train_counter // BLOCK_SIZE)),\n",
    "                       train_tar_block)\n",
    "                \"\"\"np.save(os.path.join(\n",
    "                    OUT_DIR,\n",
    "                    \"train/\",\n",
    "                    \"image_{:08d}.npy\".format(train_counter // BLOCK_SIZE)),\n",
    "                       train_ims_block)\n",
    "                np.save(os.path.join(\n",
    "                    OUT_DIR,\n",
    "                    \"train/\",\n",
    "                    \"segmentation_{:08d}.npy\".format(train_counter // BLOCK_SIZE)),\n",
    "                       train_seg_block)\n",
    "                np.save(os.path.join(\n",
    "                    OUT_DIR,\n",
    "                    \"train/\",\n",
    "                    \"target_{:08d}.npy\".format(train_counter // BLOCK_SIZE)),\n",
    "                       train_tar_block)\"\"\"\n",
    "            train_counter += 1\n",
    "\n",
    "        elif im_idx in test_indices:\n",
    "            test_idx = test_counter % BLOCK_SIZE\n",
    "            test_ims_block[test_idx] = np.stack((im, im, im), axis=2)\n",
    "            test_seg_block[test_idx] = modal_mask[:, :, np.newaxis]\n",
    "            test_tar_block[test_idx] = np.stack((amodal_mask, amodal_mask, amodal_mask), axis=2)\n",
    "            if test_idx == BLOCK_SIZE - 1:\n",
    "                test_folder_idx = np.random.choice([0, 1, 2, 3])\n",
    "                test_folder = test_folders[test_folder_idx]\n",
    "                io.imsave(os.path.join(\n",
    "                    OUT_DIR,\n",
    "                    test_folder,\n",
    "                    \"image_{:08d}.png\".format(test_counters[test_folder_idx])),\n",
    "                        test_ims_block)\n",
    "                io.imsave(os.path.join(\n",
    "                    OUT_DIR,\n",
    "                    test_folder,\n",
    "                    \"segmentation_{:08d}.png\".format(test_counters[test_folder_idx])),\n",
    "                        test_seg_block)\n",
    "                io.imsave(os.path.join(\n",
    "                    OUT_DIR,\n",
    "                    test_folder,\n",
    "                    \"target_{:08d}.png\".format(test_counters[test_folder_idx])),\n",
    "                        test_tar_block)\n",
    "                \n",
    "                \"\"\"Old, raw numpy stuff\n",
    "                np.save(os.path.join(\n",
    "                    OUT_DIR,\n",
    "                    test_folder,\n",
    "                    \"image_{:08d}.npy\".format(test_counters[test_folder_idx])),\n",
    "                        test_ims_block)\n",
    "                np.save(os.path.join(\n",
    "                    OUT_DIR,\n",
    "                    test_folder,\n",
    "                    \"segmentation_{:08d}.npy\".format(test_counters[test_folder_idx])),\n",
    "                        test_seg_block)\n",
    "                np.save(os.path.join(\n",
    "                    OUT_DIR,\n",
    "                    test_folder,\n",
    "                    \"target_{:08d}.npy\".format(test_counters[test_folder_idx])),\n",
    "                        test_tar_block)\"\"\"\n",
    "                test_counters[test_folder_idx] += 1\n",
    "            test_counter += 1\n",
    "print(\"Data count: {}\".format(data_count))\n"
   ]
  },
  {
   "cell_type": "markdown",
   "metadata": {},
   "source": [
    "\n",
    "## Converting wisdom-real json structure to cluttered omniglot dataset format"
   ]
  },
  {
   "cell_type": "code",
   "execution_count": 5,
   "metadata": {},
   "outputs": [],
   "source": [
    "# input directories\n",
    "AMODAL_MASK_DIR = \"/nfs/diskstation/projects/mech_search/siamese_net_training/phoxi_training_dataset\"\n",
    "SCENE_DIR = \"/nfs/diskstation/projects/dex-net/segmentation/datasets/wisdom/wisdom-real/high-res\"\n",
    "JSON_DIR = \"/nfs/diskstation/projects/dex-net/segmentation/datasets/real_test_09_10_18/phoxi/color_ims\"\n",
    "\n",
    "# output directories\n",
    "OUT_DIR = \"/nfs/diskstation/projects/dex-net/segmentation/datasets/mask-net-real\"\n"
   ]
  },
  {
   "cell_type": "code",
   "execution_count": 13,
   "metadata": {},
   "outputs": [
    {
     "name": "stdout",
     "output_type": "stream",
     "text": [
      "{'complete': None,\n",
      " 'image_filename': 'image_000001.png',\n",
      " 'labels': [{'label_class': 'object',\n",
      "             'label_type': 'polygon',\n",
      "             'object_id': 1,\n",
      "             'vertices': [{'x': 312.8100631975566, 'y': 466.04652022311114},\n",
      "                          {'x': 316.05007709208473, 'y': 457.94648548679066},\n",
      "                          {'x': 325.7701187756693, 'y': 452.27646117136635},\n",
      "                          {'x': 336.3001639328859, 'y': 452.27646117136635},\n",
      "                          {'x': 349.2602195109986, 'y': 452.27646117136635},\n",
      "                          {'x': 358.1702577209511, 'y': 452.27646117136635},\n",
      "                          {'x': 364.65028551000745, 'y': 462.80650632858294},\n",
      "                          {'x': 367.89029940453565, 'y': 466.8565236967432},\n",
      "                          {'x': 370.32030982543176, 'y': 470.9065410649034},\n",
      "                          {'x': 380.0403515090163, 'y': 474.14655495943157},\n",
      "                          {'x': 397.8604279289213, 'y': 480.6265827484879},\n",
      "                          {'x': 430.2605668742031, 'y': 483.8665966430161},\n",
      "                          {'x': 465.0907162403811, 'y': 487.1066105375443},\n",
      "                          {'x': 486.9608100284463, 'y': 490.3466244320725},\n",
      "                          {'x': 505.5908899219833, 'y': 495.20664527386475},\n",
      "                          {'x': 515.3109316055679, 'y': 497.63665569476086},\n",
      "                          {'x': 523.4109663418883, 'y': 499.256662642025},\n",
      "                          {'x': 530.7009976045767, 'y': 510.5967112728736},\n",
      "                          {'x': 529.8909941309447, 'y': 516.2667355882979},\n",
      "                          {'x': 522.6009628682563, 'y': 521.1267564300902},\n",
      "                          {'x': 508.0209003428795, 'y': 520.3167529564581},\n",
      "                          {'x': 456.9906815040606, 'y': 513.8367251674018},\n",
      "                          {'x': 414.0604974015622, 'y': 505.73669043108134},\n",
      "                          {'x': 389.7603931926009, 'y': 500.06666611565703},\n",
      "                          {'x': 379.2303480353843, 'y': 496.8266522211288},\n",
      "                          {'x': 374.370327193592, 'y': 497.63665569476086},\n",
      "                          {'x': 371.9403167726959, 'y': 500.87666958928907},\n",
      "                          {'x': 371.1303132990638, 'y': 502.49667653655314},\n",
      "                          {'x': 363.6303132990638, 'y': 509.61668348381727},\n",
      "                          {'x': 360.1303132990638, 'y': 509.61668348381727},\n",
      "                          {'x': 354.1303132990638, 'y': 510.11668348381727},\n",
      "                          {'x': 348.1303132990638, 'y': 510.61668348381727},\n",
      "                          {'x': 339.6303132990638, 'y': 510.61668348381727},\n",
      "                          {'x': 335.6303132990638, 'y': 510.61668348381727},\n",
      "                          {'x': 329.6303132990638, 'y': 509.11668348381727},\n",
      "                          {'x': 321.6303132990638, 'y': 507.61668348381727},\n",
      "                          {'x': 315.1303132990638, 'y': 500.11668348381727},\n",
      "                          {'x': 313.1303132990638, 'y': 498.11668348381727},\n",
      "                          {'x': 311.1303132990638, 'y': 494.11668348381727},\n",
      "                          {'x': 310.6303132990638, 'y': 490.61668348381727},\n",
      "                          {'x': 310.1303132990638, 'y': 483.11668348381727},\n",
      "                          {'x': 309.1303132990638, 'y': 475.61668348381727}]},\n",
      "            {'label_class': 'object',\n",
      "             'label_type': 'polygon',\n",
      "             'object_id': 2,\n",
      "             'vertices': [{'x': 376.6303132990638, 'y': 409.11668348381727},\n",
      "                          {'x': 377.1303132990638, 'y': 409.11668348381727},\n",
      "                          {'x': 381.6303132990638, 'y': 405.11668348381727},\n",
      "                          {'x': 384.6303132990638, 'y': 401.11668348381727},\n",
      "                          {'x': 385.1303132990638, 'y': 399.61668348381727},\n",
      "                          {'x': 391.1303132990638, 'y': 394.11668348381727},\n",
      "                          {'x': 394.1303132990638, 'y': 392.61668348381727},\n",
      "                          {'x': 396.6303132990638, 'y': 392.11668348381727},\n",
      "                          {'x': 397.6303132990638, 'y': 391.61668348381727},\n",
      "                          {'x': 398.6083767725112, 'y': 390.63862001036995},\n",
      "                          {'x': 398.3803132990638, 'y': 385.11668348381727},\n",
      "                          {'x': 402.1303132990638, 'y': 376.11668348381727},\n",
      "                          {'x': 418.6983954812551, 'y': 365.86522049758355},\n",
      "                          {'x': 413.85530453512195, 'y': 359.5692022676105},\n",
      "                          {'x': 412.402377251282, 'y': 349.8830203753442},\n",
      "                          {'x': 413.37099544050864, 'y': 347.46147490227764},\n",
      "                          {'x': 416.27685000818855, 'y': 343.5870021453711},\n",
      "                          {'x': 430.3218137519746, 'y': 335.8380566315581},\n",
      "                          {'x': 455.02157757725365, 'y': 320.8244746985454},\n",
      "                          {'x': 471.97239588871963, 'y': 312.59122009011907},\n",
      "                          {'x': 491.34475967325216, 'y': 297.093329062493},\n",
      "                          {'x': 501.99955975474506, 'y': 291.28161992713325},\n",
      "                          {'x': 511.20143255239805, 'y': 287.89145626484003},\n",
      "                          {'x': 517.4974507823711, 'y': 283.53267441332025},\n",
      "                          {'x': 523.3091599177309, 'y': 282.5640562240936},\n",
      "                          {'x': 526.699323580024, 'y': 283.53267441332025},\n",
      "                          {'x': 534.4482690938371, 'y': 288.37576535945334},\n",
      "                          {'x': 545.10306917533, 'y': 299.9991836301729},\n",
      "                          {'x': 549.4618510268498, 'y': 305.8108927655327},\n",
      "                          {'x': 555.2735601622096, 'y': 317.4343110362522},\n",
      "                          {'x': 560.600960202956, 'y': 328.5734202123584},\n",
      "                          {'x': 563.5068147706359, 'y': 332.9322020638782},\n",
      "                          {'x': 565.9283602437025, 'y': 339.71252938846465},\n",
      "                          {'x': 566.4126693383158, 'y': 345.03992942921104},\n",
      "                          {'x': 565.9283602437025, 'y': 351.8202567537975},\n",
      "                          {'x': 564.4754329598625, 'y': 355.21042041609064},\n",
      "                          {'x': 541.7129055130367, 'y': 368.77107506526346},\n",
      "                          {'x': 531.5424145261572, 'y': 374.0984751060099},\n",
      "                          {'x': 523.3091599177309, 'y': 379.42587514675637},\n",
      "                          {'x': 520.8876144446643, 'y': 380.8788024305963},\n",
      "                          {'x': 513.6229780254646, 'y': 384.75327518750277},\n",
      "                          {'x': 499.57801428167846, 'y': 389.1120570390226},\n",
      "                          {'x': 491.34475967325216, 'y': 392.5022207013158},\n",
      "                          {'x': 483.11150506482585, 'y': 397.8296207420623},\n",
      "                          {'x': 480.20565049714594, 'y': 401.21978440435544},\n",
      "                          {'x': 473.42532317255956, 'y': 408.0001117289419},\n",
      "                          {'x': 463.25483218567996, 'y': 412.84320267507496},\n",
      "                          {'x': 458.8960503341601, 'y': 413.81182086430164},\n",
      "                          {'x': 453.56865029341367, 'y': 415.26474814814156},\n",
      "                          {'x': 450.1784866311205, 'y': 413.81182086430164},\n",
      "                          {'x': 442.9138502119208, 'y': 408.0001117289419},\n",
      "                          {'x': 438.0707592657877, 'y': 403.64132987742204},\n",
      "                          {'x': 438.0707592657877, 'y': 403.15702078280873},\n",
      "                          {'x': 428.8688864681347, 'y': 401.70409349896875},\n",
      "                          {'x': 425.96303190045484, 'y': 405.09425716126196},\n",
      "                          {'x': 424.02579552200154, 'y': 407.5158026343285},\n",
      "                          {'x': 423.54148642738824, 'y': 407.5158026343285},\n",
      "                          {'x': 422.7912074391565, 'y': 408.50029772109633},\n",
      "                          {'x': 411.04148642738824, 'y': 408.0001117289419},\n",
      "                          {'x': 409.79148642738824, 'y': 406.5001117289419},\n",
      "                          {'x': 407.79148642738824, 'y': 406.5001117289419},\n",
      "                          {'x': 401.04148642738824, 'y': 408.5001117289419},\n",
      "                          {'x': 399.54148642738824, 'y': 409.5001117289419},\n",
      "                          {'x': 397.29148642738824, 'y': 411.0001117289419},\n",
      "                          {'x': 392.79148642738824, 'y': 413.0001117289419},\n",
      "                          {'x': 386.79148642738824, 'y': 413.7501117289419},\n",
      "                          {'x': 384.29148642738824, 'y': 414.2501117289419},\n",
      "                          {'x': 380.29148642738824, 'y': 414.2501117289419},\n",
      "                          {'x': 377.29148642738824, 'y': 412.7501117289419}]},\n",
      "            {'label_class': 'object',\n",
      "             'label_type': 'polygon',\n",
      "             'object_id': 3,\n",
      "             'vertices': [{'x': 485.88105526067847, 'y': 396.68412018845385},\n",
      "                          {'x': 482.39402230253023, 'y': 408.01697730243563},\n",
      "                          {'x': 481.5222640629932, 'y': 420.2215926559545},\n",
      "                          {'x': 479.7787475839191, 'y': 429.8109332908622},\n",
      "                          {'x': 478.906989344382, 'y': 444.6308233629922},\n",
      "                          {'x': 478.906989344382, 'y': 456.8354387165111},\n",
      "                          {'x': 479.7787475839191, 'y': 470.78357054910407},\n",
      "                          {'x': 481.5222640629932, 'y': 475.1423617467894},\n",
      "                          {'x': 488.49632997928967, 'y': 484.73170238169706},\n",
      "                          {'x': 500.70094533280854, 'y': 491.70576829799353},\n",
      "                          {'x': 526.8536925189204, 'y': 490.8340100584565},\n",
      "                          {'x': 570.4416044957735, 'y': 493.44928477706765},\n",
      "                          {'x': 606.183692316793, 'y': 496.93631773521594},\n",
      "                          {'x': 636.6952307005902, 'y': 500.42335069336417},\n",
      "                          {'x': 667.2067690843874, 'y': 503.0386254119754},\n",
      "                          {'x': 699.4618239472586, 'y': 506.5256583701236},\n",
      "                          {'x': 728.2298458519816, 'y': 509.14093308873476},\n",
      "                          {'x': 756.9978677567046, 'y': 511.75620780734596},\n",
      "                          {'x': 778.7918237451312, 'y': 512.627966046883},\n",
      "                          {'x': 792.7399555777242, 'y': 510.88444956780893},\n",
      "                          {'x': 804.944570931243, 'y': 509.14093308873476},\n",
      "                          {'x': 806.6880874103172, 'y': 506.5256583701236},\n",
      "                          {'x': 824.1232522010584, 'y': 503.0386254119754},\n",
      "                          {'x': 824.9950104405955, 'y': 496.06455949567885},\n",
      "                          {'x': 805.8163291707801, 'y': 492.5775265375306},\n",
      "                          {'x': 800.5857797335577, 'y': 487.34697710030827},\n",
      "                          {'x': 804.072812691706, 'y': 480.37291118401174},\n",
      "                          {'x': 804.072812691706, 'y': 471.65532878864116},\n",
      "                          {'x': 804.072812691706, 'y': 457.70719695604816},\n",
      "                          {'x': 803.2010544521689, 'y': 445.5025816025293},\n",
      "                          {'x': 803.2010544521689, 'y': 434.1697244885475},\n",
      "                          {'x': 804.072812691706, 'y': 420.2215926559545},\n",
      "                          {'x': 805.8163291707801, 'y': 410.63225202104684},\n",
      "                          {'x': 801.4575379730948, 'y': 401.04291138613917},\n",
      "                          {'x': 768.3307248706865, 'y': 400.1711531466021},\n",
      "                          {'x': 740.4344612055005, 'y': 399.299394907065},\n",
      "                          {'x': 697.7183074681844, 'y': 396.68412018845385},\n",
      "                          {'x': 674.1808350006838, 'y': 397.5558784279909},\n",
      "                          {'x': 604.4401758377189, 'y': 387.9665377930832},\n",
      "                          {'x': 577.41567041207, 'y': 386.2230213140091},\n",
      "                          {'x': 546.0323737887358, 'y': 384.47950483493497},\n",
      "                          {'x': 537.3147913933651, 'y': 384.47950483493497},\n",
      "                          {'x': 519.879626602624, 'y': 384.47950483493497}]},\n",
      "            {'label_class': 'object',\n",
      "             'label_type': 'polygon',\n",
      "             'object_id': 4,\n",
      "             'vertices': [{'x': 672.4373185216097, 'y': 563.1899439400325},\n",
      "                          {'x': 683.7701756355915, 'y': 557.9593945028103},\n",
      "                          {'x': 702.0770986658698, 'y': 553.6006033051249},\n",
      "                          {'x': 727.3580876124446, 'y': 555.344119784199},\n",
      "                          {'x': 749.1520436008711, 'y': 560.5746692214215},\n",
      "                          {'x': 764.8436919125382, 'y': 570.1640098563291},\n",
      "                          {'x': 776.17654902652, 'y': 577.1380757726256},\n",
      "                          {'x': 786.6376479009648, 'y': 589.3426911261445},\n",
      "                          {'x': 789.2529226195759, 'y': 609.3931306354968},\n",
      "                          {'x': 788.3811643800389, 'y': 619.8542295099417},\n",
      "                          {'x': 784.0223731823536, 'y': 635.5458778216088},\n",
      "                          {'x': 777.9200655055942, 'y': 646.0069766960535},\n",
      "                          {'x': 766.5872083916123, 'y': 654.7245590914241},\n",
      "                          {'x': 756.9978677567046, 'y': 655.5963173309611},\n",
      "                          {'x': 750.8955600799452, 'y': 662.5703832472576},\n",
      "                          {'x': 746.5367688822599, 'y': 666.929174444943},\n",
      "                          {'x': 733.460395289204, 'y': 673.0314821217023},\n",
      "                          {'x': 722.1275381752222, 'y': 674.7749986007765},\n",
      "                          {'x': 702.0770986658698, 'y': 678.2620315589247},\n",
      "                          {'x': 686.3854503542027, 'y': 679.1337897984617},\n",
      "                          {'x': 676.796109719295, 'y': 680.8773062775359},\n",
      "                          {'x': 676.796109719295, 'y': 676.5185150798507},\n",
      "                          {'x': 688.1289668332768, 'y': 673.9032403612395},\n",
      "                          {'x': 699.4618239472586, 'y': 673.9032403612395},\n",
      "                          {'x': 707.3076481030921, 'y': 667.80093268448},\n",
      "                          {'x': 710.7946810612403, 'y': 663.4421414867946},\n",
      "                          {'x': 702.9488569054068, 'y': 659.9551085286464},\n",
      "                          {'x': 694.2312745100362, 'y': 654.7245590914241},\n",
      "                          {'x': 671.5655602820726, 'y': 640.7764272588311},\n",
      "                          {'x': 665.4632526053132, 'y': 631.1870866239234},\n",
      "                          {'x': 659.3609449285537, 'y': 617.2389547913305},\n",
      "                          {'x': 659.3609449285537, 'y': 602.4190647192004},\n",
      "                          {'x': 659.3609449285537, 'y': 585.8556581679962},\n",
      "                          {'x': 662.847977886702, 'y': 580.6251087307738}]}]}\n"
     ]
    }
   ],
   "source": [
    "with open(os.path.join(JSON_DIR, \"image_000001__labels.json\")) as f:\n",
    "    ex = json.load(f)\n",
    "    pprint.pprint(ex)"
   ]
  },
  {
   "cell_type": "code",
   "execution_count": null,
   "metadata": {},
   "outputs": [],
   "source": [
    "test_dir = \"/nfs/diskstation/dmwang/labeled_wisdom_real/dataset/image_000000\"\n"
   ]
  }
 ],
 "metadata": {
  "kernelspec": {
   "display_name": "Python 3",
   "language": "python",
   "name": "python3"
  },
  "language_info": {
   "codemirror_mode": {
    "name": "ipython",
    "version": 3
   },
   "file_extension": ".py",
   "mimetype": "text/x-python",
   "name": "python",
   "nbconvert_exporter": "python",
   "pygments_lexer": "ipython3",
   "version": "3.5.2"
  }
 },
 "nbformat": 4,
 "nbformat_minor": 2
}
